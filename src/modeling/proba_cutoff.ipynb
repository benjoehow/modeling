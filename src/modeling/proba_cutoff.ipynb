{
 "cells": [
  {
   "cell_type": "code",
   "execution_count": 1,
   "id": "35864c4b-4b79-45a1-903d-f37ad9ceeb0d",
   "metadata": {},
   "outputs": [],
   "source": [
    "import pandas as pd"
   ]
  },
  {
   "cell_type": "code",
   "execution_count": 14,
   "id": "8a92f76a-cba5-4c4c-9ce1-e8c01dbae34c",
   "metadata": {},
   "outputs": [],
   "source": [
    "def cutoff_proba(prediction, target, strategy = \"data\"):\n",
    "    cutoff_value = _get_data_proba_cutoff(prediction = prediction,\n",
    "                                          target = target)\n",
    "    \n",
    "    predictions = prediction[prediction >= cutoff_value]\n",
    "    \n",
    "    return predictions"
   ]
  },
  {
   "cell_type": "code",
   "execution_count": 12,
   "id": "f923f716-33c3-45ff-bfe1-e1b0967d0559",
   "metadata": {},
   "outputs": [],
   "source": [
    "def _get_data_proba_cutoff(prediction, target):\n",
    "    percentile_cutoff = len(target[target==True])/len(target)\n",
    "    cutoff =  prediction.quantile(q = percentile_cutoff, \n",
    "                                  interpolation = \"midpoint\")\n",
    "    return cutoff"
   ]
  },
  {
   "cell_type": "code",
   "execution_count": 2,
   "id": "ed72f442-ff29-461c-ac20-71e7343884d5",
   "metadata": {},
   "outputs": [],
   "source": [
    "target = pd.Series([True, True, False, True])\n",
    "prediction = pd.Series([0.54, 0.46, 0.75, 0.34])"
   ]
  },
  {
   "cell_type": "code",
   "execution_count": 13,
   "id": "9f4ce33c-c1a4-451c-9006-51be8f085a24",
   "metadata": {},
   "outputs": [
    {
     "data": {
      "text/plain": [
       "0.645"
      ]
     },
     "execution_count": 13,
     "metadata": {},
     "output_type": "execute_result"
    }
   ],
   "source": [
    "_get_data_proba_cutoff(prediction = prediction, target = target)"
   ]
  },
  {
   "cell_type": "code",
   "execution_count": 15,
   "id": "a2fb89f0-d816-4af5-a9e9-c97ed34dad04",
   "metadata": {},
   "outputs": [
    {
     "data": {
      "text/plain": [
       "2    0.75\n",
       "dtype: float64"
      ]
     },
     "execution_count": 15,
     "metadata": {},
     "output_type": "execute_result"
    }
   ],
   "source": [
    "cutoff_proba(prediction = prediction, target = target)"
   ]
  }
 ],
 "metadata": {
  "kernelspec": {
   "display_name": "Python 3 (ipykernel)",
   "language": "python",
   "name": "python3"
  },
  "language_info": {
   "codemirror_mode": {
    "name": "ipython",
    "version": 3
   },
   "file_extension": ".py",
   "mimetype": "text/x-python",
   "name": "python",
   "nbconvert_exporter": "python",
   "pygments_lexer": "ipython3",
   "version": "3.9.9"
  }
 },
 "nbformat": 4,
 "nbformat_minor": 5
}
