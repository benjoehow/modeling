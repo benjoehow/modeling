{
 "cells": [
  {
   "cell_type": "code",
   "execution_count": 1,
   "id": "5d781cb8-1260-49aa-a5a5-afe6e4b6d79b",
   "metadata": {},
   "outputs": [
    {
     "ename": "ModuleNotFoundError",
     "evalue": "No module named 'modeling'",
     "output_type": "error",
     "traceback": [
      "\u001b[0;31m---------------------------------------------------------------------------\u001b[0m",
      "\u001b[0;31mModuleNotFoundError\u001b[0m                       Traceback (most recent call last)",
      "Cell \u001b[0;32mIn[1], line 5\u001b[0m\n\u001b[1;32m      2\u001b[0m \u001b[38;5;28;01mimport\u001b[39;00m \u001b[38;5;21;01mlogging\u001b[39;00m\n\u001b[1;32m      3\u001b[0m \u001b[38;5;28;01mimport\u001b[39;00m \u001b[38;5;21;01mpandas\u001b[39;00m \u001b[38;5;28;01mas\u001b[39;00m \u001b[38;5;21;01mpd\u001b[39;00m\n\u001b[0;32m----> 5\u001b[0m \u001b[38;5;28;01mfrom\u001b[39;00m \u001b[38;5;21;01mmodeling\u001b[39;00m \u001b[38;5;28;01mimport\u001b[39;00m get_order, Runner\n\u001b[1;32m      6\u001b[0m \u001b[38;5;28;01mfrom\u001b[39;00m \u001b[38;5;21;01mplotnine\u001b[39;00m \u001b[38;5;28;01mimport\u001b[39;00m \u001b[38;5;241m*\u001b[39m\n\u001b[1;32m      8\u001b[0m logger \u001b[38;5;241m=\u001b[39m logging\u001b[38;5;241m.\u001b[39mgetLogger()\n",
      "\u001b[0;31mModuleNotFoundError\u001b[0m: No module named 'modeling'"
     ]
    }
   ],
   "source": [
    "import json\n",
    "import logging\n",
    "import pandas as pd\n",
    "\n",
    "from modeling import get_order, Runner\n",
    "from plotnine import *\n",
    "\n",
    "logger = logging.getLogger()\n",
    "logger.setLevel(logging.INFO)"
   ]
  },
  {
   "cell_type": "markdown",
   "id": "ccc219e8-1131-4031-97fe-bc196dc12954",
   "metadata": {},
   "source": [
    "## Load dataset"
   ]
  },
  {
   "cell_type": "code",
   "execution_count": 2,
   "id": "71281d06-a18b-4d1f-9cf5-fba44e0dc5ab",
   "metadata": {},
   "outputs": [],
   "source": [
    "from sklearn.datasets import load_wine\n",
    "wine = load_wine(as_frame = True).frame\n",
    "wine[\"target2\"] = (wine.target==1).astype(int).astype(int)\n",
    "wine.loc[:,\"row_id\"] = wine.index"
   ]
  },
  {
   "cell_type": "markdown",
   "id": "20ae340c-6a4d-44cd-8029-49da744e0185",
   "metadata": {},
   "source": [
    "## Running Locally\n",
    "### Cross Validation"
   ]
  },
  {
   "cell_type": "code",
   "execution_count": 3,
   "id": "3494e271",
   "metadata": {},
   "outputs": [
    {
     "data": {
      "text/plain": [
       "True"
      ]
     },
     "execution_count": 3,
     "metadata": {},
     "output_type": "execute_result"
    }
   ],
   "source": [
    "from modeling import validate_config\n",
    "import json\n",
    "\n",
    "with open('cv_reg_config.json', 'r') as config_file:\n",
    "    config = json.load(config_file)\n",
    "\n",
    "validate_config(config = config)"
   ]
  },
  {
   "cell_type": "code",
   "execution_count": 4,
   "id": "e159e651-b108-4e86-9c66-aaa8bcc58ef0",
   "metadata": {},
   "outputs": [
    {
     "name": "stderr",
     "output_type": "stream",
     "text": [
      "INFO:root:Order f1b9d30d-3575-42ed-a56a-07524cc98718 - started.\n",
      "INFO:root:Order f1b9d30d-3575-42ed-a56a-07524cc98718 - adding result. 1 / 6 tasks completed.\n",
      "INFO:root:Order f1b9d30d-3575-42ed-a56a-07524cc98718 - adding result. 2 / 6 tasks completed.\n",
      "INFO:root:Order f1b9d30d-3575-42ed-a56a-07524cc98718 - adding result. 3 / 6 tasks completed.\n",
      "INFO:root:Order f1b9d30d-3575-42ed-a56a-07524cc98718 - adding result. 4 / 6 tasks completed.\n",
      "INFO:root:Order f1b9d30d-3575-42ed-a56a-07524cc98718 - adding result. 5 / 6 tasks completed.\n",
      "INFO:root:Order f1b9d30d-3575-42ed-a56a-07524cc98718 - adding result. 6 / 6 tasks completed.\n",
      "INFO:root:Order f1b9d30d-3575-42ed-a56a-07524cc98718 - finished.\n"
     ]
    }
   ],
   "source": [
    "with open('cv_reg_config.json', 'r') as config_file:\n",
    "    config = json.load(config_file)\n",
    "\n",
    "order = get_order(df = wine, config = config)\n",
    "\n",
    "from modeling.processors import SequentialProcessor\n",
    "processor = SequentialProcessor()\n",
    "\n",
    "runner = Runner(processor = processor)\n",
    "runner.run(order = order)"
   ]
  },
  {
   "cell_type": "code",
   "execution_count": 4,
   "id": "4cadcf80-086a-4ec7-80d9-d6ecaa3ff68d",
   "metadata": {},
   "outputs": [
    {
     "data": {
      "text/html": [
       "<div>\n",
       "<style scoped>\n",
       "    .dataframe tbody tr th:only-of-type {\n",
       "        vertical-align: middle;\n",
       "    }\n",
       "\n",
       "    .dataframe tbody tr th {\n",
       "        vertical-align: top;\n",
       "    }\n",
       "\n",
       "    .dataframe thead th {\n",
       "        text-align: right;\n",
       "    }\n",
       "</style>\n",
       "<table border=\"1\" class=\"dataframe\">\n",
       "  <thead>\n",
       "    <tr style=\"text-align: right;\">\n",
       "      <th></th>\n",
       "      <th>index</th>\n",
       "      <th>task_id</th>\n",
       "      <th>param_id</th>\n",
       "      <th>split_id</th>\n",
       "      <th>sklearn:mean_squared_error</th>\n",
       "      <th>sklearn:mean_absolute_error</th>\n",
       "      <th>num_boost_round</th>\n",
       "      <th>objective</th>\n",
       "      <th>eval_metric</th>\n",
       "      <th>eta</th>\n",
       "      <th>max_depth</th>\n",
       "    </tr>\n",
       "  </thead>\n",
       "  <tbody>\n",
       "    <tr>\n",
       "      <th>0</th>\n",
       "      <td>0</td>\n",
       "      <td>1</td>\n",
       "      <td>1</td>\n",
       "      <td>0</td>\n",
       "      <td>2.127553</td>\n",
       "      <td>1.261351</td>\n",
       "      <td>1000</td>\n",
       "      <td>reg:squarederror</td>\n",
       "      <td>rmse</td>\n",
       "      <td>0.3</td>\n",
       "      <td>6</td>\n",
       "    </tr>\n",
       "    <tr>\n",
       "      <th>1</th>\n",
       "      <td>0</td>\n",
       "      <td>1</td>\n",
       "      <td>1</td>\n",
       "      <td>0</td>\n",
       "      <td>2.127553</td>\n",
       "      <td>1.261351</td>\n",
       "      <td>500</td>\n",
       "      <td>reg:squarederror</td>\n",
       "      <td>rmse</td>\n",
       "      <td>0.3</td>\n",
       "      <td>6</td>\n",
       "    </tr>\n",
       "    <tr>\n",
       "      <th>2</th>\n",
       "      <td>0</td>\n",
       "      <td>3</td>\n",
       "      <td>0</td>\n",
       "      <td>1</td>\n",
       "      <td>0.565899</td>\n",
       "      <td>0.602064</td>\n",
       "      <td>1000</td>\n",
       "      <td>reg:squarederror</td>\n",
       "      <td>rmse</td>\n",
       "      <td>0.3</td>\n",
       "      <td>4</td>\n",
       "    </tr>\n",
       "    <tr>\n",
       "      <th>3</th>\n",
       "      <td>0</td>\n",
       "      <td>3</td>\n",
       "      <td>0</td>\n",
       "      <td>1</td>\n",
       "      <td>0.565899</td>\n",
       "      <td>0.602064</td>\n",
       "      <td>500</td>\n",
       "      <td>reg:squarederror</td>\n",
       "      <td>rmse</td>\n",
       "      <td>0.3</td>\n",
       "      <td>4</td>\n",
       "    </tr>\n",
       "    <tr>\n",
       "      <th>4</th>\n",
       "      <td>0</td>\n",
       "      <td>0</td>\n",
       "      <td>0</td>\n",
       "      <td>0</td>\n",
       "      <td>1.885999</td>\n",
       "      <td>1.187294</td>\n",
       "      <td>1000</td>\n",
       "      <td>reg:squarederror</td>\n",
       "      <td>rmse</td>\n",
       "      <td>0.3</td>\n",
       "      <td>4</td>\n",
       "    </tr>\n",
       "  </tbody>\n",
       "</table>\n",
       "</div>"
      ],
      "text/plain": [
       "   index  task_id  param_id  split_id  sklearn:mean_squared_error  \\\n",
       "0      0        1         1         0                    2.127553   \n",
       "1      0        1         1         0                    2.127553   \n",
       "2      0        3         0         1                    0.565899   \n",
       "3      0        3         0         1                    0.565899   \n",
       "4      0        0         0         0                    1.885999   \n",
       "\n",
       "   sklearn:mean_absolute_error  num_boost_round         objective eval_metric  \\\n",
       "0                     1.261351             1000  reg:squarederror        rmse   \n",
       "1                     1.261351              500  reg:squarederror        rmse   \n",
       "2                     0.602064             1000  reg:squarederror        rmse   \n",
       "3                     0.602064              500  reg:squarederror        rmse   \n",
       "4                     1.187294             1000  reg:squarederror        rmse   \n",
       "\n",
       "   eta  max_depth  \n",
       "0  0.3          6  \n",
       "1  0.3          6  \n",
       "2  0.3          4  \n",
       "3  0.3          4  \n",
       "4  0.3          4  "
      ]
     },
     "execution_count": 4,
     "metadata": {},
     "output_type": "execute_result"
    }
   ],
   "source": [
    "evaldf = pd.DataFrame(order.get_results()['eval'])\n",
    "evaldf.head()"
   ]
  },
  {
   "cell_type": "code",
   "execution_count": 6,
   "id": "195c22fa-9296-4861-90c8-1ca4f3d31424",
   "metadata": {},
   "outputs": [],
   "source": [
    "def make_cv_plot(df, metric_name):\n",
    "    display = df.copy()\n",
    "    display.loc[:, 'split_id'] = display.split_id.astype(str)\n",
    "    p1 = (ggplot(display, aes(x = 'param_id', y = metric_name, color = 'split_id'))\n",
    "          + geom_point(size = 5, show_legend = True)\n",
    "          + theme_minimal()\n",
    "          + labs(title = metric_name, x = 'Metaparameter Grouping')\n",
    "          + scale_y_continuous(expand = (0.2,0))\n",
    "          + scale_x_continuous(expand = (0.2,0))\n",
    "         )\n",
    "    return p1"
   ]
  },
  {
   "cell_type": "code",
   "execution_count": 6,
   "id": "b312afa9-4219-4a1f-9cc7-aea683561ce7",
   "metadata": {},
   "outputs": [
    {
     "data": {
      "image/png": "[encoded data removed]",
      "text/plain": [
       "<Figure size 640x480 with 1 Axes>"
      ]
     },
     "metadata": {
      "needs_background": "light"
     },
     "output_type": "display_data"
    },
    {
     "name": "stdout",
     "output_type": "stream",
     "text": [
      "\n"
     ]
    },
    {
     "data": {
      "image/png": "[encoded data removed]",
      "text/plain": [
       "<Figure size 640x480 with 1 Axes>"
      ]
     },
     "metadata": {
      "needs_background": "light"
     },
     "output_type": "display_data"
    },
    {
     "name": "stdout",
     "output_type": "stream",
     "text": [
      "\n"
     ]
    }
   ],
   "source": [
    "for metric in config['validation']['evalulation']['metrics']:\n",
    "    print(make_cv_plot(df = evaldf, metric_name = metric))"
   ]
  },
  {
   "cell_type": "markdown",
   "id": "f2cb01f5-92aa-4367-945b-b495c74d4701",
   "metadata": {},
   "source": [
    "### Single Model Training (no cross validaiton)"
   ]
  },
  {
   "cell_type": "code",
   "execution_count": 3,
   "id": "619aa073-f87c-4fb6-ba8c-7ae41771ba70",
   "metadata": {},
   "outputs": [
    {
     "name": "stderr",
     "output_type": "stream",
     "text": [
      "INFO:root:Order 10c61568-59d9-4564-bdf0-ef403e0cffbc - started.\n"
     ]
    },
    {
     "ename": "SystemExit",
     "evalue": "'num_boost_round'",
     "output_type": "error",
     "traceback": [
      "An exception has occurred, use %tb to see the full traceback.\n",
      "\u001b[0;31mSystemExit\u001b[0m\u001b[0;31m:\u001b[0m 'num_boost_round'\n"
     ]
    },
    {
     "name": "stderr",
     "output_type": "stream",
     "text": [
      "/usr/local/lib/python3.9/site-packages/IPython/core/interactiveshell.py:3441: UserWarning: To exit: use 'exit', 'quit', or Ctrl-D.\n"
     ]
    }
   ],
   "source": [
    "with open('reg_config.json', 'r') as config_file:\n",
    "    config = json.load(config_file)\n",
    "    \n",
    "order = get_order(df = wine, config = config)\n",
    "\n",
    "runner = Runner(workers = 4)\n",
    "runner.run(order = order)"
   ]
  },
  {
   "cell_type": "code",
   "execution_count": 4,
   "id": "8e1f9de9",
   "metadata": {},
   "outputs": [
    {
     "data": {
      "text/plain": [
       "modeling.orders.TrainOrder"
      ]
     },
     "execution_count": 4,
     "metadata": {},
     "output_type": "execute_result"
    }
   ],
   "source": [
    "type(order)"
   ]
  },
  {
   "cell_type": "code",
   "execution_count": 4,
   "id": "4e7ca1b4-1bdd-4981-9c6d-9935eaa4c5ba",
   "metadata": {},
   "outputs": [
    {
     "data": {
      "image/png": "[encoded data removed]",
      "text/plain": [
       "<Figure size 640x480 with 1 Axes>"
      ]
     },
     "metadata": {
      "needs_background": "light"
     },
     "output_type": "display_data"
    },
    {
     "data": {
      "text/plain": [
       "<ggplot: (8744177746698)>"
      ]
     },
     "execution_count": 4,
     "metadata": {},
     "output_type": "execute_result"
    }
   ],
   "source": [
    "m = order.get_results()\n",
    "display = pd.DataFrame({'feature': m._model.get_fscore().keys(), 'importance': m._model.get_fscore().values()})\n",
    "display = display.sort_values(by = 'importance', ascending = False).head(25).sort_values(by = 'importance', ascending = True)\n",
    "\n",
    "(ggplot(display, aes(x = 'feature', y = 'importance'))\n",
    " + geom_bar(stat = 'identity')\n",
    " + geom_text(aes(x = 'feature', y = 0, label = 'importance'), ha = 'left', color = 'white')\n",
    " + scale_x_discrete(limits = display.feature.tolist())\n",
    " + coord_flip()\n",
    " + theme_minimal())"
   ]
  },
  {
   "cell_type": "markdown",
   "id": "c56714a9-96f7-4ab3-b722-499813017be6",
   "metadata": {},
   "source": [
    "## Hosted as a web service"
   ]
  },
  {
   "cell_type": "code",
   "execution_count": 9,
   "id": "fd9b5d45-2d7b-4191-9a33-a3ca9f6ddb35",
   "metadata": {},
   "outputs": [
    {
     "name": "stdout",
     "output_type": "stream",
     "text": [
      "30afce6a-b42d-4763-b937-8017153fdf0c\n"
     ]
    }
   ],
   "source": [
    "import requests\n",
    "request = f'http://0.0.0.0:5051/train'\n",
    "r = requests.post(request,\n",
    "                  json = {\"config\": config,\n",
    "                          \"df\": wine.to_dict()})\n",
    "job_id = r.text\n",
    "print(job_id)"
   ]
  },
  {
   "cell_type": "code",
   "execution_count": 11,
   "id": "20ff3a67-65f1-4876-b868-07e6b5d06f53",
   "metadata": {},
   "outputs": [
    {
     "data": {
      "text/plain": [
       "'0 / 6 tasks completed.'"
      ]
     },
     "execution_count": 11,
     "metadata": {},
     "output_type": "execute_result"
    }
   ],
   "source": [
    "request = f'http://0.0.0.0:5051/train/status/{job_id}'\n",
    "r = requests.get(request)\n",
    "r.text"
   ]
  },
  {
   "cell_type": "code",
   "execution_count": 14,
   "id": "4a7a8367-fd86-4f5b-8158-d615582fb02e",
   "metadata": {},
   "outputs": [
    {
     "data": {
      "text/plain": [
       "'30afce6a-b42d-4763-b937-8017153fdf0c'"
      ]
     },
     "execution_count": 14,
     "metadata": {},
     "output_type": "execute_result"
    }
   ],
   "source": [
    "request = f'http://0.0.0.0:5051/train/jobs'\n",
    "r = requests.get(request)\n",
    "r.text"
   ]
  },
  {
   "cell_type": "code",
   "execution_count": 12,
   "id": "d202e751",
   "metadata": {},
   "outputs": [
    {
     "data": {
      "text/plain": [
       "['df', 'metric_name']"
      ]
     },
     "execution_count": 12,
     "metadata": {},
     "output_type": "execute_result"
    }
   ],
   "source": [
    "\n",
    "import inspect\n",
    "list(inspect.signature(make_cv_plot).parameters.keys())"
   ]
  }
 ],
 "metadata": {
  "kernelspec": {
   "display_name": "Python 3 (ipykernel)",
   "language": "python",
   "name": "python3"
  },
  "language_info": {
   "codemirror_mode": {
    "name": "ipython",
    "version": 3
   },
   "file_extension": ".py",
   "mimetype": "text/x-python",
   "name": "python",
   "nbconvert_exporter": "python",
   "pygments_lexer": "ipython3",
   "version": "3.9.16"
  }
 },
 "nbformat": 4,
 "nbformat_minor": 5
}
