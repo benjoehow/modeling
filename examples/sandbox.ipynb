{
 "cells": [
  {
   "cell_type": "code",
   "execution_count": 1,
   "id": "5d781cb8-1260-49aa-a5a5-afe6e4b6d79b",
   "metadata": {},
   "outputs": [
    {
     "name": "stderr",
     "output_type": "stream",
     "text": [
      "/usr/local/lib/python3.9/site-packages/xgboost/compat.py:36: FutureWarning: pandas.Int64Index is deprecated and will be removed from pandas in a future version. Use pandas.Index with the appropriate dtype instead.\n",
      "  from pandas import MultiIndex, Int64Index\n"
     ]
    }
   ],
   "source": [
    "import json\n",
    "\n",
    "from modeling import get_order, Runner\n",
    "from plotnine import *"
   ]
  },
  {
   "cell_type": "code",
   "execution_count": 2,
   "id": "71281d06-a18b-4d1f-9cf5-fba44e0dc5ab",
   "metadata": {},
   "outputs": [],
   "source": [
    "from sklearn.datasets import load_wine\n",
    "wine = load_wine(as_frame = True).frame\n",
    "wine[\"target2\"] = (wine.target==1)\n",
    "wine.loc[:,\"row_id\"] = wine.index"
   ]
  },
  {
   "cell_type": "code",
   "execution_count": 9,
   "id": "466f8409-01ad-44c2-9583-05d3bee48b00",
   "metadata": {},
   "outputs": [],
   "source": [
    "config = {\n",
    "            \"validation\": {\n",
    "                \"splitter\": {\n",
    "                    \"id\": \"KFold\",\n",
    "                    \"params\": {\n",
    "                        \"n_splits\": 2\n",
    "                    }\n",
    "                },\n",
    "                \"evalulation\": {\n",
    "                    \"metrics\": [\"sklearn:mean_squared_error\",\n",
    "                                \"sklearn:mean_absolute_error\"]\n",
    "                }\n",
    "            },\n",
    "            \"model\": {\n",
    "                \"id\": \"xgboost\",\n",
    "                \"params\": {\n",
    "                    \"objective\": \"reg:squarederror\",\n",
    "                    \"eval_metric\": \"rmse\",\n",
    "                    \"num_boost_round\": [500, 1000],\n",
    "                    \"eta\": 0.3,\n",
    "                    \"max_depth\": [4, 6, 8]\n",
    "                }\n",
    "            },\n",
    "            \"data\": {\n",
    "                \"target\": \"alcohol\",\n",
    "                \"features\": {\n",
    "                    \"asis\": [\"malic_acid\", \"ash\", \"alcalinity_of_ash\", \"magnesium\",\n",
    "                        \"total_phenols\", \"flavanoids\", \"nonflavanoid_phenols\", \"proanthocyanins\",\n",
    "                         \"color_intensity\", \"hue\", \"od280/od315_of_diluted_wines\", \"proline\"]\n",
    "                    }\n",
    "                }\n",
    "            }"
   ]
  },
  {
   "cell_type": "code",
   "execution_count": 14,
   "id": "e159e651-b108-4e86-9c66-aaa8bcc58ef0",
   "metadata": {},
   "outputs": [
    {
     "name": "stdout",
     "output_type": "stream",
     "text": [
      "process started\n",
      "adding result\n",
      "adding result\n",
      "adding result\n",
      "adding result\n",
      "adding result\n",
      "adding result\n"
     ]
    }
   ],
   "source": [
    "order = get_order(df = wine, config = config)\n",
    "\n",
    "runner = Runner(workers = 4)\n",
    "runner.run(order = order)"
   ]
  },
  {
   "cell_type": "code",
   "execution_count": 15,
   "id": "4cadcf80-086a-4ec7-80d9-d6ecaa3ff68d",
   "metadata": {},
   "outputs": [
    {
     "data": {
      "text/html": [
       "<div>\n",
       "<style scoped>\n",
       "    .dataframe tbody tr th:only-of-type {\n",
       "        vertical-align: middle;\n",
       "    }\n",
       "\n",
       "    .dataframe tbody tr th {\n",
       "        vertical-align: top;\n",
       "    }\n",
       "\n",
       "    .dataframe thead th {\n",
       "        text-align: right;\n",
       "    }\n",
       "</style>\n",
       "<table border=\"1\" class=\"dataframe\">\n",
       "  <thead>\n",
       "    <tr style=\"text-align: right;\">\n",
       "      <th></th>\n",
       "      <th>task_id</th>\n",
       "      <th>param_id</th>\n",
       "      <th>split_id</th>\n",
       "      <th>sklearn:mean_squared_error</th>\n",
       "      <th>sklearn:mean_absolute_error</th>\n",
       "      <th>num_boost_round</th>\n",
       "      <th>objective</th>\n",
       "      <th>eval_metric</th>\n",
       "      <th>eta</th>\n",
       "      <th>max_depth</th>\n",
       "    </tr>\n",
       "  </thead>\n",
       "  <tbody>\n",
       "    <tr>\n",
       "      <th>0</th>\n",
       "      <td>2</td>\n",
       "      <td>2</td>\n",
       "      <td>0</td>\n",
       "      <td>2.150109</td>\n",
       "      <td>1.274583</td>\n",
       "      <td>1000</td>\n",
       "      <td>reg:squarederror</td>\n",
       "      <td>rmse</td>\n",
       "      <td>0.3</td>\n",
       "      <td>8</td>\n",
       "    </tr>\n",
       "    <tr>\n",
       "      <th>0</th>\n",
       "      <td>2</td>\n",
       "      <td>2</td>\n",
       "      <td>0</td>\n",
       "      <td>2.150109</td>\n",
       "      <td>1.274583</td>\n",
       "      <td>500</td>\n",
       "      <td>reg:squarederror</td>\n",
       "      <td>rmse</td>\n",
       "      <td>0.3</td>\n",
       "      <td>8</td>\n",
       "    </tr>\n",
       "    <tr>\n",
       "      <th>0</th>\n",
       "      <td>0</td>\n",
       "      <td>0</td>\n",
       "      <td>0</td>\n",
       "      <td>1.885999</td>\n",
       "      <td>1.187294</td>\n",
       "      <td>1000</td>\n",
       "      <td>reg:squarederror</td>\n",
       "      <td>rmse</td>\n",
       "      <td>0.3</td>\n",
       "      <td>4</td>\n",
       "    </tr>\n",
       "    <tr>\n",
       "      <th>0</th>\n",
       "      <td>0</td>\n",
       "      <td>0</td>\n",
       "      <td>0</td>\n",
       "      <td>1.885999</td>\n",
       "      <td>1.187294</td>\n",
       "      <td>500</td>\n",
       "      <td>reg:squarederror</td>\n",
       "      <td>rmse</td>\n",
       "      <td>0.3</td>\n",
       "      <td>4</td>\n",
       "    </tr>\n",
       "    <tr>\n",
       "      <th>0</th>\n",
       "      <td>1</td>\n",
       "      <td>1</td>\n",
       "      <td>0</td>\n",
       "      <td>2.127553</td>\n",
       "      <td>1.261351</td>\n",
       "      <td>1000</td>\n",
       "      <td>reg:squarederror</td>\n",
       "      <td>rmse</td>\n",
       "      <td>0.3</td>\n",
       "      <td>6</td>\n",
       "    </tr>\n",
       "  </tbody>\n",
       "</table>\n",
       "</div>"
      ],
      "text/plain": [
       "   task_id  param_id  split_id  sklearn:mean_squared_error  \\\n",
       "0        2         2         0                    2.150109   \n",
       "0        2         2         0                    2.150109   \n",
       "0        0         0         0                    1.885999   \n",
       "0        0         0         0                    1.885999   \n",
       "0        1         1         0                    2.127553   \n",
       "\n",
       "   sklearn:mean_absolute_error  num_boost_round         objective eval_metric  \\\n",
       "0                     1.274583             1000  reg:squarederror        rmse   \n",
       "0                     1.274583              500  reg:squarederror        rmse   \n",
       "0                     1.187294             1000  reg:squarederror        rmse   \n",
       "0                     1.187294              500  reg:squarederror        rmse   \n",
       "0                     1.261351             1000  reg:squarederror        rmse   \n",
       "\n",
       "   eta  max_depth  \n",
       "0  0.3          8  \n",
       "0  0.3          8  \n",
       "0  0.3          4  \n",
       "0  0.3          4  \n",
       "0  0.3          6  "
      ]
     },
     "execution_count": 15,
     "metadata": {},
     "output_type": "execute_result"
    }
   ],
   "source": [
    "evaldf = order.get_results()['eval']\n",
    "evaldf.head()"
   ]
  },
  {
   "cell_type": "code",
   "execution_count": 21,
   "id": "195c22fa-9296-4861-90c8-1ca4f3d31424",
   "metadata": {},
   "outputs": [],
   "source": [
    "def plot_cv_plot(df, metric_name):\n",
    "    display = df.copy()\n",
    "    display.loc[:, 'split_id'] = display.split_id.astype(str)\n",
    "    p1 = (ggplot(display, aes(x = 'param_id', y = metric_name, color = 'split_id'))\n",
    "          + geom_point(size = 3)\n",
    "          + theme_minimal()\n",
    "          + labs(title = metric_name)\n",
    "         )\n",
    "    return p1"
   ]
  },
  {
   "cell_type": "code",
   "execution_count": 22,
   "id": "b312afa9-4219-4a1f-9cc7-aea683561ce7",
   "metadata": {},
   "outputs": [
    {
     "data": {
      "image/png": "[encoded data removed]",
      "text/plain": [
       "<Figure size 640x480 with 1 Axes>"
      ]
     },
     "metadata": {
      "needs_background": "light"
     },
     "output_type": "display_data"
    },
    {
     "name": "stdout",
     "output_type": "stream",
     "text": [
      "\n"
     ]
    },
    {
     "data": {
      "image/png": "[encoded data removed]",
      "text/plain": [
       "<Figure size 640x480 with 1 Axes>"
      ]
     },
     "metadata": {
      "needs_background": "light"
     },
     "output_type": "display_data"
    },
    {
     "name": "stdout",
     "output_type": "stream",
     "text": [
      "\n"
     ]
    }
   ],
   "source": [
    "for metric in config['validation']['evalulation']['metrics']:\n",
    "    print(plot_cv_plot(df = evaldf, metric_name = metric))"
   ]
  }
 ],
 "metadata": {
  "kernelspec": {
   "display_name": "Python 3 (ipykernel)",
   "language": "python",
   "name": "python3"
  },
  "language_info": {
   "codemirror_mode": {
    "name": "ipython",
    "version": 3
   },
   "file_extension": ".py",
   "mimetype": "text/x-python",
   "name": "python",
   "nbconvert_exporter": "python",
   "pygments_lexer": "ipython3",
   "version": "3.9.15"
  }
 },
 "nbformat": 4,
 "nbformat_minor": 5
}
