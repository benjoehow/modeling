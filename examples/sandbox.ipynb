{
 "cells": [
  {
   "cell_type": "code",
   "execution_count": 45,
   "id": "5d781cb8-1260-49aa-a5a5-afe6e4b6d79b",
   "metadata": {},
   "outputs": [],
   "source": [
    "import json\n",
    "\n",
    "from modeling import get_order, Runner\n",
    "from plotnine import *"
   ]
  },
  {
   "cell_type": "code",
   "execution_count": 46,
   "id": "71281d06-a18b-4d1f-9cf5-fba44e0dc5ab",
   "metadata": {},
   "outputs": [],
   "source": [
    "from sklearn.datasets import load_wine\n",
    "wine = load_wine(as_frame = True).frame\n",
    "wine[\"target2\"] = (wine.target==1).astype(int).astype(int)\n",
    "wine.loc[:,\"row_id\"] = wine.index"
   ]
  },
  {
   "cell_type": "code",
   "execution_count": 47,
   "id": "466f8409-01ad-44c2-9583-05d3bee48b00",
   "metadata": {},
   "outputs": [],
   "source": [
    "reg_config = {\n",
    "            \"task\": \"classification\",\n",
    "            \"validation\": {\n",
    "                \"splitter\": {\n",
    "                    \"id\": \"KFold\",\n",
    "                    \"params\": {\n",
    "                        \"n_splits\": 2\n",
    "                    }\n",
    "                },\n",
    "                \"evalulation\": {\n",
    "                    \"metrics\": [\"sklearn:mean_squared_error\",\n",
    "                                \"sklearn:mean_absolute_error\"]\n",
    "                }\n",
    "            },\n",
    "            \"model\": {\n",
    "                \"id\": \"xgboost\",\n",
    "                \"params\": {\n",
    "                    \"objective\": \"reg:squarederror\",\n",
    "                    \"eval_metric\": \"rmse\",\n",
    "                    \"num_boost_round\": [500, 1000],\n",
    "                    \"eta\": 0.3,\n",
    "                    \"max_depth\": [4, 6, 8]\n",
    "                }\n",
    "            },\n",
    "            \"data\": {\n",
    "                \"target\": \"alcohol\",\n",
    "                \"features\": {\n",
    "                    \"asis\": [\"malic_acid\", \"ash\", \"alcalinity_of_ash\", \"magnesium\",\n",
    "                        \"total_phenols\", \"flavanoids\", \"nonflavanoid_phenols\", \"proanthocyanins\",\n",
    "                         \"color_intensity\", \"hue\", \"od280/od315_of_diluted_wines\", \"proline\"]\n",
    "                    }\n",
    "                }\n",
    "            }\n",
    "\n",
    "class_config = {\n",
    "            \"task\": \"classification\",\n",
    "            \"validation\": {\n",
    "                \"splitter\": {\n",
    "                    \"id\": \"KFold\",\n",
    "                    \"params\": {\n",
    "                        \"n_splits\": 2\n",
    "                    }\n",
    "                },\n",
    "                \"evalulation\": {\n",
    "                    \"metrics\": [\"sklearn:precision_score\"\n",
    "                                #\"sklearn:average_precision_score\"\n",
    "                               ]\n",
    "                }\n",
    "            },\n",
    "            \"model\": {\n",
    "                \"id\": \"xgboost\",\n",
    "                \"params\": {\n",
    "                    \"objective\": \"reg:logistic\",\n",
    "                    \"eval_metric\": \"error\",\n",
    "                    \"num_boost_round\": [500, 1000],\n",
    "                    \"eta\": 0.3,\n",
    "                    \"max_depth\": [4, 6, 8]\n",
    "                }\n",
    "            },\n",
    "            \"data\": {\n",
    "                \"target\": \"target2\",\n",
    "                \"features\": {\n",
    "                    \"asis\": [\"malic_acid\", \"ash\", \"alcalinity_of_ash\", \"magnesium\",\n",
    "                        \"total_phenols\", \"flavanoids\", \"nonflavanoid_phenols\", \"proanthocyanins\",\n",
    "                         \"color_intensity\", \"hue\", \"od280/od315_of_diluted_wines\", \"proline\"]\n",
    "                    }\n",
    "                }\n",
    "            }"
   ]
  },
  {
   "cell_type": "code",
   "execution_count": 73,
   "id": "956e411c-a0a5-49fe-89f7-2f4390a43c84",
   "metadata": {},
   "outputs": [
    {
     "data": {
      "text/plain": [
       "'{\"test\":0}\\n'"
      ]
     },
     "execution_count": 73,
     "metadata": {},
     "output_type": "execute_result"
    }
   ],
   "source": [
    "r = requests.get(f'http://0.0.0.0:5050/')\n",
    "r.text"
   ]
  },
  {
   "cell_type": "code",
   "execution_count": 76,
   "id": "e7dd26a0-3b8d-4f42-abb5-bdf715f297f8",
   "metadata": {},
   "outputs": [
    {
     "data": {
      "text/plain": [
       "'test1'"
      ]
     },
     "execution_count": 76,
     "metadata": {},
     "output_type": "execute_result"
    }
   ],
   "source": [
    "import requests\n",
    "request = f'http://0.0.0.0:5050/train/job1'\n",
    "r = requests.post(request,\n",
    "                  json = {\"config\": reg_config,\n",
    "                          \"df\": wine.to_dict()})\n",
    "r.text"
   ]
  },
  {
   "cell_type": "code",
   "execution_count": 71,
   "id": "fcd69b26-788b-43ee-aa7b-398d5d8f1949",
   "metadata": {},
   "outputs": [
    {
     "data": {
      "text/plain": [
       "'key'"
      ]
     },
     "execution_count": 71,
     "metadata": {},
     "output_type": "execute_result"
    }
   ],
   "source": [
    "t = {'key': 1}\n",
    "', '.join(list(t.keys()))"
   ]
  },
  {
   "cell_type": "code",
   "execution_count": 77,
   "id": "0dfba9a7-9339-4bac-a001-ce61bb7cc70a",
   "metadata": {},
   "outputs": [
    {
     "data": {
      "text/plain": [
       "'test1'"
      ]
     },
     "execution_count": 77,
     "metadata": {},
     "output_type": "execute_result"
    }
   ],
   "source": [
    "r = requests.get('http://0.0.0.0:5050/jobs')\n",
    "r.text"
   ]
  },
  {
   "cell_type": "code",
   "execution_count": null,
   "id": "a8f86a3c-8fa5-4f4d-bd69-1130dd9eb00c",
   "metadata": {},
   "outputs": [],
   "source": [
    "request = f'http://0.0.0.0:5050/train/test1'\n",
    "r = requests.get(request)\n",
    "r.json()"
   ]
  },
  {
   "cell_type": "code",
   "execution_count": 18,
   "id": "e159e651-b108-4e86-9c66-aaa8bcc58ef0",
   "metadata": {},
   "outputs": [
    {
     "name": "stdout",
     "output_type": "stream",
     "text": [
      "process started\n",
      "adding result\n",
      "adding result\n",
      "adding result\n",
      "adding result\n",
      "adding result\n",
      "adding result\n"
     ]
    },
    {
     "name": "stderr",
     "output_type": "stream",
     "text": [
      "Process ForkProcess-3:\n"
     ]
    }
   ],
   "source": [
    "config = class_config\n",
    "order = get_order(df = wine, config = config)\n",
    "\n",
    "runner = Runner(workers = 4)\n",
    "runner.run(order = order)"
   ]
  },
  {
   "cell_type": "code",
   "execution_count": null,
   "id": "3a2ff0e3-889a-4f3a-90c9-9fbc2665496c",
   "metadata": {},
   "outputs": [],
   "source": [
    "runner._futures[0].exception()"
   ]
  },
  {
   "cell_type": "code",
   "execution_count": null,
   "id": "4cadcf80-086a-4ec7-80d9-d6ecaa3ff68d",
   "metadata": {},
   "outputs": [],
   "source": [
    "evaldf = order.get_results()['eval']\n",
    "evaldf.head()"
   ]
  },
  {
   "cell_type": "code",
   "execution_count": 14,
   "id": "6c2de54b-c91c-46ca-b4f2-6b3da6a99ac5",
   "metadata": {},
   "outputs": [
    {
     "data": {
      "text/html": [
       "<div>\n",
       "<style scoped>\n",
       "    .dataframe tbody tr th:only-of-type {\n",
       "        vertical-align: middle;\n",
       "    }\n",
       "\n",
       "    .dataframe tbody tr th {\n",
       "        vertical-align: top;\n",
       "    }\n",
       "\n",
       "    .dataframe thead th {\n",
       "        text-align: right;\n",
       "    }\n",
       "</style>\n",
       "<table border=\"1\" class=\"dataframe\">\n",
       "  <thead>\n",
       "    <tr style=\"text-align: right;\">\n",
       "      <th></th>\n",
       "      <th>row_id</th>\n",
       "      <th>predictions</th>\n",
       "      <th>truth</th>\n",
       "      <th>num_boost_round</th>\n",
       "      <th>objective</th>\n",
       "      <th>eval_metric</th>\n",
       "      <th>eta</th>\n",
       "      <th>max_depth</th>\n",
       "      <th>task_id</th>\n",
       "      <th>param_id</th>\n",
       "      <th>split_id</th>\n",
       "    </tr>\n",
       "  </thead>\n",
       "  <tbody>\n",
       "    <tr>\n",
       "      <th>0</th>\n",
       "      <td>89</td>\n",
       "      <td>0.990234</td>\n",
       "      <td>1</td>\n",
       "      <td>1000</td>\n",
       "      <td>reg:logistic</td>\n",
       "      <td>error</td>\n",
       "      <td>0.3</td>\n",
       "      <td>4</td>\n",
       "      <td>3</td>\n",
       "      <td>0</td>\n",
       "      <td>1</td>\n",
       "    </tr>\n",
       "    <tr>\n",
       "      <th>1</th>\n",
       "      <td>90</td>\n",
       "      <td>0.979258</td>\n",
       "      <td>1</td>\n",
       "      <td>1000</td>\n",
       "      <td>reg:logistic</td>\n",
       "      <td>error</td>\n",
       "      <td>0.3</td>\n",
       "      <td>4</td>\n",
       "      <td>3</td>\n",
       "      <td>0</td>\n",
       "      <td>1</td>\n",
       "    </tr>\n",
       "    <tr>\n",
       "      <th>2</th>\n",
       "      <td>91</td>\n",
       "      <td>0.987462</td>\n",
       "      <td>1</td>\n",
       "      <td>1000</td>\n",
       "      <td>reg:logistic</td>\n",
       "      <td>error</td>\n",
       "      <td>0.3</td>\n",
       "      <td>4</td>\n",
       "      <td>3</td>\n",
       "      <td>0</td>\n",
       "      <td>1</td>\n",
       "    </tr>\n",
       "    <tr>\n",
       "      <th>3</th>\n",
       "      <td>92</td>\n",
       "      <td>0.990234</td>\n",
       "      <td>1</td>\n",
       "      <td>1000</td>\n",
       "      <td>reg:logistic</td>\n",
       "      <td>error</td>\n",
       "      <td>0.3</td>\n",
       "      <td>4</td>\n",
       "      <td>3</td>\n",
       "      <td>0</td>\n",
       "      <td>1</td>\n",
       "    </tr>\n",
       "    <tr>\n",
       "      <th>4</th>\n",
       "      <td>93</td>\n",
       "      <td>0.962167</td>\n",
       "      <td>1</td>\n",
       "      <td>1000</td>\n",
       "      <td>reg:logistic</td>\n",
       "      <td>error</td>\n",
       "      <td>0.3</td>\n",
       "      <td>4</td>\n",
       "      <td>3</td>\n",
       "      <td>0</td>\n",
       "      <td>1</td>\n",
       "    </tr>\n",
       "    <tr>\n",
       "      <th>...</th>\n",
       "      <td>...</td>\n",
       "      <td>...</td>\n",
       "      <td>...</td>\n",
       "      <td>...</td>\n",
       "      <td>...</td>\n",
       "      <td>...</td>\n",
       "      <td>...</td>\n",
       "      <td>...</td>\n",
       "      <td>...</td>\n",
       "      <td>...</td>\n",
       "      <td>...</td>\n",
       "    </tr>\n",
       "    <tr>\n",
       "      <th>84</th>\n",
       "      <td>173</td>\n",
       "      <td>0.295776</td>\n",
       "      <td>0</td>\n",
       "      <td>500</td>\n",
       "      <td>reg:logistic</td>\n",
       "      <td>error</td>\n",
       "      <td>0.3</td>\n",
       "      <td>8</td>\n",
       "      <td>5</td>\n",
       "      <td>2</td>\n",
       "      <td>1</td>\n",
       "    </tr>\n",
       "    <tr>\n",
       "      <th>85</th>\n",
       "      <td>174</td>\n",
       "      <td>0.295776</td>\n",
       "      <td>0</td>\n",
       "      <td>500</td>\n",
       "      <td>reg:logistic</td>\n",
       "      <td>error</td>\n",
       "      <td>0.3</td>\n",
       "      <td>8</td>\n",
       "      <td>5</td>\n",
       "      <td>2</td>\n",
       "      <td>1</td>\n",
       "    </tr>\n",
       "    <tr>\n",
       "      <th>86</th>\n",
       "      <td>175</td>\n",
       "      <td>0.036695</td>\n",
       "      <td>0</td>\n",
       "      <td>500</td>\n",
       "      <td>reg:logistic</td>\n",
       "      <td>error</td>\n",
       "      <td>0.3</td>\n",
       "      <td>8</td>\n",
       "      <td>5</td>\n",
       "      <td>2</td>\n",
       "      <td>1</td>\n",
       "    </tr>\n",
       "    <tr>\n",
       "      <th>87</th>\n",
       "      <td>176</td>\n",
       "      <td>0.036695</td>\n",
       "      <td>0</td>\n",
       "      <td>500</td>\n",
       "      <td>reg:logistic</td>\n",
       "      <td>error</td>\n",
       "      <td>0.3</td>\n",
       "      <td>8</td>\n",
       "      <td>5</td>\n",
       "      <td>2</td>\n",
       "      <td>1</td>\n",
       "    </tr>\n",
       "    <tr>\n",
       "      <th>88</th>\n",
       "      <td>177</td>\n",
       "      <td>0.917619</td>\n",
       "      <td>0</td>\n",
       "      <td>500</td>\n",
       "      <td>reg:logistic</td>\n",
       "      <td>error</td>\n",
       "      <td>0.3</td>\n",
       "      <td>8</td>\n",
       "      <td>5</td>\n",
       "      <td>2</td>\n",
       "      <td>1</td>\n",
       "    </tr>\n",
       "  </tbody>\n",
       "</table>\n",
       "<p>1068 rows × 11 columns</p>\n",
       "</div>"
      ],
      "text/plain": [
       "    row_id  predictions  truth  num_boost_round     objective eval_metric  \\\n",
       "0       89     0.990234      1             1000  reg:logistic       error   \n",
       "1       90     0.979258      1             1000  reg:logistic       error   \n",
       "2       91     0.987462      1             1000  reg:logistic       error   \n",
       "3       92     0.990234      1             1000  reg:logistic       error   \n",
       "4       93     0.962167      1             1000  reg:logistic       error   \n",
       "..     ...          ...    ...              ...           ...         ...   \n",
       "84     173     0.295776      0              500  reg:logistic       error   \n",
       "85     174     0.295776      0              500  reg:logistic       error   \n",
       "86     175     0.036695      0              500  reg:logistic       error   \n",
       "87     176     0.036695      0              500  reg:logistic       error   \n",
       "88     177     0.917619      0              500  reg:logistic       error   \n",
       "\n",
       "    eta  max_depth  task_id  param_id  split_id  \n",
       "0   0.3          4        3         0         1  \n",
       "1   0.3          4        3         0         1  \n",
       "2   0.3          4        3         0         1  \n",
       "3   0.3          4        3         0         1  \n",
       "4   0.3          4        3         0         1  \n",
       "..  ...        ...      ...       ...       ...  \n",
       "84  0.3          8        5         2         1  \n",
       "85  0.3          8        5         2         1  \n",
       "86  0.3          8        5         2         1  \n",
       "87  0.3          8        5         2         1  \n",
       "88  0.3          8        5         2         1  \n",
       "\n",
       "[1068 rows x 11 columns]"
      ]
     },
     "execution_count": 14,
     "metadata": {},
     "output_type": "execute_result"
    }
   ],
   "source": [
    "order.get_results()['predictions']"
   ]
  },
  {
   "cell_type": "code",
   "execution_count": null,
   "id": "195c22fa-9296-4861-90c8-1ca4f3d31424",
   "metadata": {},
   "outputs": [],
   "source": [
    "def plot_cv_plot(df, metric_name):\n",
    "    display = df.copy()\n",
    "    display.loc[:, 'split_id'] = display.split_id.astype(str)\n",
    "    p1 = (ggplot(display, aes(x = 'param_id', y = metric_name, color = 'split_id'))\n",
    "          + geom_point(size = 3)\n",
    "          + theme_minimal()\n",
    "          + labs(title = metric_name)\n",
    "         )\n",
    "    return p1"
   ]
  },
  {
   "cell_type": "code",
   "execution_count": null,
   "id": "b312afa9-4219-4a1f-9cc7-aea683561ce7",
   "metadata": {},
   "outputs": [],
   "source": [
    "for metric in config['validation']['evalulation']['metrics']:\n",
    "    print(plot_cv_plot(df = evaldf, metric_name = metric))"
   ]
  },
  {
   "cell_type": "code",
   "execution_count": null,
   "id": "4200bbc0-7a87-49ac-b7b0-62f91474edf7",
   "metadata": {},
   "outputs": [],
   "source": []
  }
 ],
 "metadata": {
  "kernelspec": {
   "display_name": "Python 3 (ipykernel)",
   "language": "python",
   "name": "python3"
  },
  "language_info": {
   "codemirror_mode": {
    "name": "ipython",
    "version": 3
   },
   "file_extension": ".py",
   "mimetype": "text/x-python",
   "name": "python",
   "nbconvert_exporter": "python",
   "pygments_lexer": "ipython3",
   "version": "3.9.16"
  }
 },
 "nbformat": 4,
 "nbformat_minor": 5
}
