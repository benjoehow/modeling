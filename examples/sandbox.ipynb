{
 "cells": [
  {
   "cell_type": "code",
   "execution_count": 78,
   "id": "5d781cb8-1260-49aa-a5a5-afe6e4b6d79b",
   "metadata": {},
   "outputs": [],
   "source": [
    "import json\n",
    "\n",
    "from modeling import get_order, Runner\n",
    "from plotnine import *"
   ]
  },
  {
   "cell_type": "code",
   "execution_count": 46,
   "id": "71281d06-a18b-4d1f-9cf5-fba44e0dc5ab",
   "metadata": {},
   "outputs": [],
   "source": [
    "from sklearn.datasets import load_wine\n",
    "wine = load_wine(as_frame = True).frame\n",
    "wine[\"target2\"] = (wine.target==1).astype(int).astype(int)\n",
    "wine.loc[:,\"row_id\"] = wine.index"
   ]
  },
  {
   "cell_type": "code",
   "execution_count": 80,
   "id": "e159e651-b108-4e86-9c66-aaa8bcc58ef0",
   "metadata": {},
   "outputs": [
    {
     "name": "stdout",
     "output_type": "stream",
     "text": [
      "process started\n",
      "adding result\n",
      "adding result\n",
      "adding result\n",
      "adding result\n",
      "adding result\n",
      "adding result\n"
     ]
    }
   ],
   "source": [
    "with open('class_config.json', 'r') as config_file:\n",
    "    config = json.load(config_file)\n",
    "\n",
    "order = get_order(df = wine, config = config)\n",
    "\n",
    "runner = Runner(workers = 4)\n",
    "runner.run(order = order)"
   ]
  },
  {
   "cell_type": "code",
   "execution_count": null,
   "id": "3a2ff0e3-889a-4f3a-90c9-9fbc2665496c",
   "metadata": {},
   "outputs": [],
   "source": [
    "runner._futures[0].exception()"
   ]
  },
  {
   "cell_type": "code",
   "execution_count": 85,
   "id": "4cadcf80-086a-4ec7-80d9-d6ecaa3ff68d",
   "metadata": {},
   "outputs": [
    {
     "data": {
      "text/html": [
       "<div>\n",
       "<style scoped>\n",
       "    .dataframe tbody tr th:only-of-type {\n",
       "        vertical-align: middle;\n",
       "    }\n",
       "\n",
       "    .dataframe tbody tr th {\n",
       "        vertical-align: top;\n",
       "    }\n",
       "\n",
       "    .dataframe thead th {\n",
       "        text-align: right;\n",
       "    }\n",
       "</style>\n",
       "<table border=\"1\" class=\"dataframe\">\n",
       "  <thead>\n",
       "    <tr style=\"text-align: right;\">\n",
       "      <th></th>\n",
       "      <th>task_id</th>\n",
       "      <th>param_id</th>\n",
       "      <th>split_id</th>\n",
       "      <th>sklearn:precision_score</th>\n",
       "      <th>num_boost_round</th>\n",
       "      <th>objective</th>\n",
       "      <th>eval_metric</th>\n",
       "      <th>eta</th>\n",
       "      <th>max_depth</th>\n",
       "    </tr>\n",
       "  </thead>\n",
       "  <tbody>\n",
       "    <tr>\n",
       "      <th>0</th>\n",
       "      <td>3</td>\n",
       "      <td>0</td>\n",
       "      <td>1</td>\n",
       "      <td>0.546667</td>\n",
       "      <td>1000</td>\n",
       "      <td>reg:logistic</td>\n",
       "      <td>error</td>\n",
       "      <td>0.3</td>\n",
       "      <td>4</td>\n",
       "    </tr>\n",
       "    <tr>\n",
       "      <th>0</th>\n",
       "      <td>3</td>\n",
       "      <td>0</td>\n",
       "      <td>1</td>\n",
       "      <td>0.546667</td>\n",
       "      <td>500</td>\n",
       "      <td>reg:logistic</td>\n",
       "      <td>error</td>\n",
       "      <td>0.3</td>\n",
       "      <td>4</td>\n",
       "    </tr>\n",
       "    <tr>\n",
       "      <th>0</th>\n",
       "      <td>0</td>\n",
       "      <td>0</td>\n",
       "      <td>0</td>\n",
       "      <td>0.310811</td>\n",
       "      <td>1000</td>\n",
       "      <td>reg:logistic</td>\n",
       "      <td>error</td>\n",
       "      <td>0.3</td>\n",
       "      <td>4</td>\n",
       "    </tr>\n",
       "    <tr>\n",
       "      <th>0</th>\n",
       "      <td>0</td>\n",
       "      <td>0</td>\n",
       "      <td>0</td>\n",
       "      <td>0.310811</td>\n",
       "      <td>500</td>\n",
       "      <td>reg:logistic</td>\n",
       "      <td>error</td>\n",
       "      <td>0.3</td>\n",
       "      <td>4</td>\n",
       "    </tr>\n",
       "    <tr>\n",
       "      <th>0</th>\n",
       "      <td>2</td>\n",
       "      <td>2</td>\n",
       "      <td>0</td>\n",
       "      <td>0.310811</td>\n",
       "      <td>1000</td>\n",
       "      <td>reg:logistic</td>\n",
       "      <td>error</td>\n",
       "      <td>0.3</td>\n",
       "      <td>8</td>\n",
       "    </tr>\n",
       "  </tbody>\n",
       "</table>\n",
       "</div>"
      ],
      "text/plain": [
       "   task_id  param_id  split_id  sklearn:precision_score  num_boost_round  \\\n",
       "0        3         0         1                 0.546667             1000   \n",
       "0        3         0         1                 0.546667              500   \n",
       "0        0         0         0                 0.310811             1000   \n",
       "0        0         0         0                 0.310811              500   \n",
       "0        2         2         0                 0.310811             1000   \n",
       "\n",
       "      objective eval_metric  eta  max_depth  \n",
       "0  reg:logistic       error  0.3          4  \n",
       "0  reg:logistic       error  0.3          4  \n",
       "0  reg:logistic       error  0.3          4  \n",
       "0  reg:logistic       error  0.3          4  \n",
       "0  reg:logistic       error  0.3          8  "
      ]
     },
     "execution_count": 85,
     "metadata": {},
     "output_type": "execute_result"
    }
   ],
   "source": [
    "evaldf = pd.DataFrame(order.get_results()['eval'])\n",
    "evaldf.head()"
   ]
  },
  {
   "cell_type": "code",
   "execution_count": 94,
   "id": "6c2de54b-c91c-46ca-b4f2-6b3da6a99ac5",
   "metadata": {},
   "outputs": [
    {
     "data": {
      "text/html": [
       "<div>\n",
       "<style scoped>\n",
       "    .dataframe tbody tr th:only-of-type {\n",
       "        vertical-align: middle;\n",
       "    }\n",
       "\n",
       "    .dataframe tbody tr th {\n",
       "        vertical-align: top;\n",
       "    }\n",
       "\n",
       "    .dataframe thead th {\n",
       "        text-align: right;\n",
       "    }\n",
       "</style>\n",
       "<table border=\"1\" class=\"dataframe\">\n",
       "  <thead>\n",
       "    <tr style=\"text-align: right;\">\n",
       "      <th></th>\n",
       "      <th>row_id</th>\n",
       "      <th>predictions</th>\n",
       "      <th>truth</th>\n",
       "      <th>num_boost_round</th>\n",
       "      <th>objective</th>\n",
       "      <th>eval_metric</th>\n",
       "      <th>eta</th>\n",
       "      <th>max_depth</th>\n",
       "      <th>task_id</th>\n",
       "      <th>param_id</th>\n",
       "      <th>split_id</th>\n",
       "    </tr>\n",
       "  </thead>\n",
       "  <tbody>\n",
       "    <tr>\n",
       "      <th>0</th>\n",
       "      <td>89</td>\n",
       "      <td>0.990234</td>\n",
       "      <td>1</td>\n",
       "      <td>1000</td>\n",
       "      <td>reg:logistic</td>\n",
       "      <td>error</td>\n",
       "      <td>0.3</td>\n",
       "      <td>4</td>\n",
       "      <td>3</td>\n",
       "      <td>0</td>\n",
       "      <td>1</td>\n",
       "    </tr>\n",
       "    <tr>\n",
       "      <th>1</th>\n",
       "      <td>90</td>\n",
       "      <td>0.979258</td>\n",
       "      <td>1</td>\n",
       "      <td>1000</td>\n",
       "      <td>reg:logistic</td>\n",
       "      <td>error</td>\n",
       "      <td>0.3</td>\n",
       "      <td>4</td>\n",
       "      <td>3</td>\n",
       "      <td>0</td>\n",
       "      <td>1</td>\n",
       "    </tr>\n",
       "    <tr>\n",
       "      <th>2</th>\n",
       "      <td>91</td>\n",
       "      <td>0.987462</td>\n",
       "      <td>1</td>\n",
       "      <td>1000</td>\n",
       "      <td>reg:logistic</td>\n",
       "      <td>error</td>\n",
       "      <td>0.3</td>\n",
       "      <td>4</td>\n",
       "      <td>3</td>\n",
       "      <td>0</td>\n",
       "      <td>1</td>\n",
       "    </tr>\n",
       "    <tr>\n",
       "      <th>3</th>\n",
       "      <td>92</td>\n",
       "      <td>0.990234</td>\n",
       "      <td>1</td>\n",
       "      <td>1000</td>\n",
       "      <td>reg:logistic</td>\n",
       "      <td>error</td>\n",
       "      <td>0.3</td>\n",
       "      <td>4</td>\n",
       "      <td>3</td>\n",
       "      <td>0</td>\n",
       "      <td>1</td>\n",
       "    </tr>\n",
       "    <tr>\n",
       "      <th>4</th>\n",
       "      <td>93</td>\n",
       "      <td>0.962167</td>\n",
       "      <td>1</td>\n",
       "      <td>1000</td>\n",
       "      <td>reg:logistic</td>\n",
       "      <td>error</td>\n",
       "      <td>0.3</td>\n",
       "      <td>4</td>\n",
       "      <td>3</td>\n",
       "      <td>0</td>\n",
       "      <td>1</td>\n",
       "    </tr>\n",
       "  </tbody>\n",
       "</table>\n",
       "</div>"
      ],
      "text/plain": [
       "   row_id  predictions  truth  num_boost_round     objective eval_metric  eta  \\\n",
       "0      89     0.990234      1             1000  reg:logistic       error  0.3   \n",
       "1      90     0.979258      1             1000  reg:logistic       error  0.3   \n",
       "2      91     0.987462      1             1000  reg:logistic       error  0.3   \n",
       "3      92     0.990234      1             1000  reg:logistic       error  0.3   \n",
       "4      93     0.962167      1             1000  reg:logistic       error  0.3   \n",
       "\n",
       "   max_depth  task_id  param_id  split_id  \n",
       "0          4        3         0         1  \n",
       "1          4        3         0         1  \n",
       "2          4        3         0         1  \n",
       "3          4        3         0         1  \n",
       "4          4        3         0         1  "
      ]
     },
     "execution_count": 94,
     "metadata": {},
     "output_type": "execute_result"
    }
   ],
   "source": [
    "predictions = pd.DataFrame(order.get_results()['predictions'])\n",
    "predictions.head()"
   ]
  },
  {
   "cell_type": "code",
   "execution_count": 83,
   "id": "195c22fa-9296-4861-90c8-1ca4f3d31424",
   "metadata": {},
   "outputs": [],
   "source": [
    "def plot_cv_plot(df, metric_name):\n",
    "    display = df.copy()\n",
    "    display.loc[:, 'split_id'] = display.split_id.astype(str)\n",
    "    p1 = (ggplot(display, aes(x = 'param_id', y = metric_name, color = 'split_id'))\n",
    "          + geom_point(size = 3)\n",
    "          + theme_minimal()\n",
    "          + labs(title = metric_name)\n",
    "         )\n",
    "    return p1"
   ]
  },
  {
   "cell_type": "code",
   "execution_count": 86,
   "id": "b312afa9-4219-4a1f-9cc7-aea683561ce7",
   "metadata": {},
   "outputs": [
    {
     "data": {
      "image/png": "[encoded data removed]",
      "text/plain": [
       "<Figure size 640x480 with 1 Axes>"
      ]
     },
     "metadata": {
      "needs_background": "light"
     },
     "output_type": "display_data"
    },
    {
     "name": "stdout",
     "output_type": "stream",
     "text": [
      "\n"
     ]
    }
   ],
   "source": [
    "for metric in config['validation']['evalulation']['metrics']:\n",
    "    print(plot_cv_plot(df = evaldf, metric_name = metric))"
   ]
  },
  {
   "cell_type": "markdown",
   "id": "c56714a9-96f7-4ab3-b722-499813017be6",
   "metadata": {},
   "source": [
    "## Hosted as a web service"
   ]
  },
  {
   "cell_type": "code",
   "execution_count": null,
   "id": "fd9b5d45-2d7b-4191-9a33-a3ca9f6ddb35",
   "metadata": {},
   "outputs": [],
   "source": [
    "import requests\n",
    "request = f'http://0.0.0.0:5050/train/job1'\n",
    "r = requests.post(request,\n",
    "                  json = {\"config\": reg_config,\n",
    "                          \"df\": wine.to_dict()})\n",
    "r.text"
   ]
  },
  {
   "cell_type": "code",
   "execution_count": null,
   "id": "e6dec37d-5995-4e24-a155-37f9bce450dd",
   "metadata": {},
   "outputs": [],
   "source": [
    "t = {'key': 1}\n",
    "', '.join(list(t.keys()))"
   ]
  },
  {
   "cell_type": "code",
   "execution_count": null,
   "id": "20ff3a67-65f1-4876-b868-07e6b5d06f53",
   "metadata": {},
   "outputs": [],
   "source": [
    "request = f'http://0.0.0.0:5050/train/test1'\n",
    "r = requests.get(request)\n",
    "r.json()"
   ]
  }
 ],
 "metadata": {
  "kernelspec": {
   "display_name": "Python 3 (ipykernel)",
   "language": "python",
   "name": "python3"
  },
  "language_info": {
   "codemirror_mode": {
    "name": "ipython",
    "version": 3
   },
   "file_extension": ".py",
   "mimetype": "text/x-python",
   "name": "python",
   "nbconvert_exporter": "python",
   "pygments_lexer": "ipython3",
   "version": "3.9.16"
  }
 },
 "nbformat": 4,
 "nbformat_minor": 5
}
